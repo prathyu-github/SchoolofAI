{
  "nbformat": 4,
  "nbformat_minor": 0,
  "metadata": {
    "colab": {
      "name": "END2.0 Session 1.ipynb",
      "provenance": [],
      "include_colab_link": true
    },
    "kernelspec": {
      "name": "python3",
      "display_name": "Python 3"
    },
    "language_info": {
      "name": "python"
    }
  },
  "cells": [
    {
      "cell_type": "markdown",
      "metadata": {
        "id": "view-in-github",
        "colab_type": "text"
      },
      "source": [
        "<a href=\"https://colab.research.google.com/github/prathyu-github/SchoolofAI/blob/main/END2_0_Session_1.ipynb\" target=\"_parent\"><img src=\"https://colab.research.google.com/assets/colab-badge.svg\" alt=\"Open In Colab\"/></a>"
      ]
    },
    {
      "cell_type": "code",
      "metadata": {
        "colab": {
          "base_uri": "https://localhost:8080/"
        },
        "id": "GC_6PeobwwkH",
        "outputId": "8f4e4ba3-e372-4cba-d730-36d339ec796e"
      },
      "source": [
        "import torch\n",
        "from torch.autograd import Variable\n",
        "import torch.nn as nn\n",
        "import torch.nn.functional as F\n",
        "import torch.optim as optim\n",
        "import numpy as np\n",
        "import matplotlib.pyplot as plt\n",
        "%matplotlib inline\n",
        "torch.manual_seed(2)"
      ],
      "execution_count": 104,
      "outputs": [
        {
          "output_type": "execute_result",
          "data": {
            "text/plain": [
              "<torch._C.Generator at 0x7fa6329d7a90>"
            ]
          },
          "metadata": {},
          "execution_count": 104
        }
      ]
    },
    {
      "cell_type": "code",
      "metadata": {
        "id": "bL64bMTkw2GP"
      },
      "source": [
        "X = torch.Tensor([[0,0], [0,1], [1,0], [1,1]])\n",
        "Y = torch.Tensor([0, 1, 1, 0]).view(-1,1)"
      ],
      "execution_count": 105,
      "outputs": []
    },
    {
      "cell_type": "code",
      "metadata": {
        "id": "aC82kEAIw3Wf"
      },
      "source": [
        "class XOR(nn.Module):\n",
        "    def __init__(self, input_dim = 2, output_dim=1):\n",
        "        super(XOR, self).__init__()\n",
        "        self.lin1 = nn.Linear(input_dim, 5)\n",
        "        self.lin2 = nn.Linear(5, 4)\n",
        "        self.lin3 = nn.Linear(4, output_dim)\n",
        "    \n",
        "    def forward(self, x):\n",
        "        x = self.lin1(x)\n",
        "        x = self.lin2(x)\n",
        "        #x = F.tanh(x)\n",
        "        x = self.lin3(x)\n",
        "        #x = F.tanh(x)\n",
        "        return x"
      ],
      "execution_count": 106,
      "outputs": []
    },
    {
      "cell_type": "code",
      "metadata": {
        "colab": {
          "base_uri": "https://localhost:8080/"
        },
        "id": "8gQIQExYw65K",
        "outputId": "52e02dce-c46e-4615-bb1e-dad229e55fb0"
      },
      "source": [
        "model = XOR()\n",
        "print(model)\n",
        "from torchsummary import summary\n",
        "summary(model, (2,2))"
      ],
      "execution_count": 107,
      "outputs": [
        {
          "output_type": "stream",
          "name": "stdout",
          "text": [
            "XOR(\n",
            "  (lin1): Linear(in_features=2, out_features=5, bias=True)\n",
            "  (lin2): Linear(in_features=5, out_features=4, bias=True)\n",
            "  (lin3): Linear(in_features=4, out_features=1, bias=True)\n",
            ")\n",
            "----------------------------------------------------------------\n",
            "        Layer (type)               Output Shape         Param #\n",
            "================================================================\n",
            "            Linear-1                 [-1, 2, 5]              15\n",
            "            Linear-2                 [-1, 2, 4]              24\n",
            "            Linear-3                 [-1, 2, 1]               5\n",
            "================================================================\n",
            "Total params: 44\n",
            "Trainable params: 44\n",
            "Non-trainable params: 0\n",
            "----------------------------------------------------------------\n",
            "Input size (MB): 0.00\n",
            "Forward/backward pass size (MB): 0.00\n",
            "Params size (MB): 0.00\n",
            "Estimated Total Size (MB): 0.00\n",
            "----------------------------------------------------------------\n"
          ]
        }
      ]
    },
    {
      "cell_type": "code",
      "metadata": {
        "id": "yeotEq19x6XF"
      },
      "source": [
        "def weights_init(model):\n",
        "    for m in model.modules():\n",
        "        if isinstance(m, nn.Linear):\n",
        "            # initialize the weight tensor, here we use a normal distribution\n",
        "            m.weight.data.normal_(0, 1)\n",
        "\n",
        "weights_init(model)"
      ],
      "execution_count": 108,
      "outputs": []
    },
    {
      "cell_type": "code",
      "metadata": {
        "id": "WrD_sNzLx78e"
      },
      "source": [
        "loss_func = nn.L1Loss()"
      ],
      "execution_count": 109,
      "outputs": []
    },
    {
      "cell_type": "code",
      "metadata": {
        "id": "-zvbrMd2x_lA"
      },
      "source": [
        "optimizer = optim.SGD(model.parameters(), lr=0.02, momentum=0.9)\n"
      ],
      "execution_count": 110,
      "outputs": []
    },
    {
      "cell_type": "code",
      "metadata": {
        "colab": {
          "base_uri": "https://localhost:8080/"
        },
        "id": "q7tWa3D7yA5X",
        "outputId": "79e99f36-6dae-4622-dd62-f8618f07376f"
      },
      "source": [
        "epochs = 2001\n",
        "steps = X.size(0)\n",
        "for i in range(epochs):\n",
        "    for j in range(steps):\n",
        "        data_point = np.random.randint(X.size(0))\n",
        "        x_var = Variable(X[data_point], requires_grad=False)\n",
        "        y_var = Variable(Y[data_point], requires_grad=False)\n",
        "        \n",
        "        optimizer.zero_grad()\n",
        "        y_hat = model(x_var)\n",
        "        loss = loss_func.forward(y_hat, y_var)\n",
        "        loss.backward()\n",
        "        optimizer.step()\n",
        "        \n",
        "    if i % 50 == 0:\n",
        "        print( \"Epoch: {0}, Loss: {1}, \".format(i, loss.data.numpy()))"
      ],
      "execution_count": 111,
      "outputs": [
        {
          "output_type": "stream",
          "name": "stdout",
          "text": [
            "Epoch: 0, Loss: 0.902347207069397, \n",
            "Epoch: 50, Loss: 1.0248386859893799, \n",
            "Epoch: 100, Loss: 0.2817915081977844, \n",
            "Epoch: 150, Loss: 0.803465723991394, \n",
            "Epoch: 200, Loss: 0.0901632308959961, \n",
            "Epoch: 250, Loss: 0.8452501893043518, \n",
            "Epoch: 300, Loss: 0.049553144723176956, \n",
            "Epoch: 350, Loss: 0.0679505318403244, \n",
            "Epoch: 400, Loss: 0.24562126398086548, \n",
            "Epoch: 450, Loss: 0.6425902843475342, \n",
            "Epoch: 500, Loss: 0.048660099506378174, \n",
            "Epoch: 550, Loss: 0.22133909165859222, \n",
            "Epoch: 600, Loss: 0.46799829602241516, \n",
            "Epoch: 650, Loss: 0.80900639295578, \n",
            "Epoch: 700, Loss: 0.8457549810409546, \n",
            "Epoch: 750, Loss: 0.14544260501861572, \n",
            "Epoch: 800, Loss: 0.801539957523346, \n",
            "Epoch: 850, Loss: 0.7008470296859741, \n",
            "Epoch: 900, Loss: 0.469563364982605, \n",
            "Epoch: 950, Loss: 0.7034521102905273, \n",
            "Epoch: 1000, Loss: 0.007139821071177721, \n",
            "Epoch: 1050, Loss: 0.17670564353466034, \n",
            "Epoch: 1100, Loss: 0.6666152477264404, \n",
            "Epoch: 1150, Loss: 0.31043457984924316, \n",
            "Epoch: 1200, Loss: 0.8609268665313721, \n",
            "Epoch: 1250, Loss: 0.9185857176780701, \n",
            "Epoch: 1300, Loss: 0.20436599850654602, \n",
            "Epoch: 1350, Loss: 0.6261461973190308, \n",
            "Epoch: 1400, Loss: 0.7595059871673584, \n",
            "Epoch: 1450, Loss: 0.07141109555959702, \n",
            "Epoch: 1500, Loss: 0.9403101801872253, \n",
            "Epoch: 1550, Loss: 1.0026766061782837, \n",
            "Epoch: 1600, Loss: 0.1482810378074646, \n",
            "Epoch: 1650, Loss: 0.5196273922920227, \n",
            "Epoch: 1700, Loss: 0.6575234532356262, \n",
            "Epoch: 1750, Loss: 0.3171641528606415, \n",
            "Epoch: 1800, Loss: 0.756242573261261, \n",
            "Epoch: 1850, Loss: 1.0325113534927368, \n",
            "Epoch: 1900, Loss: 0.03318977355957031, \n",
            "Epoch: 1950, Loss: 0.04088318347930908, \n",
            "Epoch: 2000, Loss: 0.006554042920470238, \n"
          ]
        }
      ]
    },
    {
      "cell_type": "code",
      "metadata": {
        "id": "QV0dIdveyCRi"
      },
      "source": [
        ""
      ],
      "execution_count": 111,
      "outputs": []
    }
  ]
}