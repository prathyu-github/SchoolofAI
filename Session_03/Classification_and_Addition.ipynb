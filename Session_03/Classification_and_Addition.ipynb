{
  "nbformat": 4,
  "nbformat_minor": 0,
  "metadata": {
    "colab": {
      "name": "Session_03.ipynb",
      "provenance": [],
      "collapsed_sections": [],
      "include_colab_link": true
    },
    "kernelspec": {
      "name": "python3",
      "display_name": "Python 3"
    },
    "language_info": {
      "name": "python"
    },
    "accelerator": "GPU",
    "widgets": {
      "application/vnd.jupyter.widget-state+json": {
        "742b74aa12884ef485392f6f0c372418": {
          "model_module": "@jupyter-widgets/controls",
          "model_name": "HBoxModel",
          "model_module_version": "1.5.0",
          "state": {
            "_view_name": "HBoxView",
            "_dom_classes": [],
            "_model_name": "HBoxModel",
            "_view_module": "@jupyter-widgets/controls",
            "_model_module_version": "1.5.0",
            "_view_count": null,
            "_view_module_version": "1.5.0",
            "box_style": "",
            "layout": "IPY_MODEL_5184b91e3ef64910b9e55f492517618a",
            "_model_module": "@jupyter-widgets/controls",
            "children": [
              "IPY_MODEL_c75bf8a92e38409aa9dfef81135b5358",
              "IPY_MODEL_7d736789c322475fbb45fb127a5993f3",
              "IPY_MODEL_f4e6ee2b0e0b4320a0dbab32a024a986"
            ]
          }
        },
        "5184b91e3ef64910b9e55f492517618a": {
          "model_module": "@jupyter-widgets/base",
          "model_name": "LayoutModel",
          "model_module_version": "1.2.0",
          "state": {
            "_view_name": "LayoutView",
            "grid_template_rows": null,
            "right": null,
            "justify_content": null,
            "_view_module": "@jupyter-widgets/base",
            "overflow": null,
            "_model_module_version": "1.2.0",
            "_view_count": null,
            "flex_flow": null,
            "width": null,
            "min_width": null,
            "border": null,
            "align_items": null,
            "bottom": null,
            "_model_module": "@jupyter-widgets/base",
            "top": null,
            "grid_column": null,
            "overflow_y": null,
            "overflow_x": null,
            "grid_auto_flow": null,
            "grid_area": null,
            "grid_template_columns": null,
            "flex": null,
            "_model_name": "LayoutModel",
            "justify_items": null,
            "grid_row": null,
            "max_height": null,
            "align_content": null,
            "visibility": null,
            "align_self": null,
            "height": null,
            "min_height": null,
            "padding": null,
            "grid_auto_rows": null,
            "grid_gap": null,
            "max_width": null,
            "order": null,
            "_view_module_version": "1.2.0",
            "grid_template_areas": null,
            "object_position": null,
            "object_fit": null,
            "grid_auto_columns": null,
            "margin": null,
            "display": null,
            "left": null
          }
        },
        "c75bf8a92e38409aa9dfef81135b5358": {
          "model_module": "@jupyter-widgets/controls",
          "model_name": "HTMLModel",
          "model_module_version": "1.5.0",
          "state": {
            "_view_name": "HTMLView",
            "style": "IPY_MODEL_776d1f7c079b45e69acf69fe58458b27",
            "_dom_classes": [],
            "description": "",
            "_model_name": "HTMLModel",
            "placeholder": "​",
            "_view_module": "@jupyter-widgets/controls",
            "_model_module_version": "1.5.0",
            "value": "",
            "_view_count": null,
            "_view_module_version": "1.5.0",
            "description_tooltip": null,
            "_model_module": "@jupyter-widgets/controls",
            "layout": "IPY_MODEL_2f558bc1b9f8494db73c6e35135d48f1"
          }
        },
        "7d736789c322475fbb45fb127a5993f3": {
          "model_module": "@jupyter-widgets/controls",
          "model_name": "FloatProgressModel",
          "model_module_version": "1.5.0",
          "state": {
            "_view_name": "ProgressView",
            "style": "IPY_MODEL_883a440733d649cf9f1e052feaa416f3",
            "_dom_classes": [],
            "description": "",
            "_model_name": "FloatProgressModel",
            "bar_style": "success",
            "max": 9912422,
            "_view_module": "@jupyter-widgets/controls",
            "_model_module_version": "1.5.0",
            "value": 9912422,
            "_view_count": null,
            "_view_module_version": "1.5.0",
            "orientation": "horizontal",
            "min": 0,
            "description_tooltip": null,
            "_model_module": "@jupyter-widgets/controls",
            "layout": "IPY_MODEL_007334a0f9d24511bee96865d5beada5"
          }
        },
        "f4e6ee2b0e0b4320a0dbab32a024a986": {
          "model_module": "@jupyter-widgets/controls",
          "model_name": "HTMLModel",
          "model_module_version": "1.5.0",
          "state": {
            "_view_name": "HTMLView",
            "style": "IPY_MODEL_e72c448a7c864696995857fe81ee4e82",
            "_dom_classes": [],
            "description": "",
            "_model_name": "HTMLModel",
            "placeholder": "​",
            "_view_module": "@jupyter-widgets/controls",
            "_model_module_version": "1.5.0",
            "value": " 9913344/? [00:00&lt;00:00, 48838245.13it/s]",
            "_view_count": null,
            "_view_module_version": "1.5.0",
            "description_tooltip": null,
            "_model_module": "@jupyter-widgets/controls",
            "layout": "IPY_MODEL_57559e8a1cf3403ea218c82325cecf17"
          }
        },
        "776d1f7c079b45e69acf69fe58458b27": {
          "model_module": "@jupyter-widgets/controls",
          "model_name": "DescriptionStyleModel",
          "model_module_version": "1.5.0",
          "state": {
            "_view_name": "StyleView",
            "_model_name": "DescriptionStyleModel",
            "description_width": "",
            "_view_module": "@jupyter-widgets/base",
            "_model_module_version": "1.5.0",
            "_view_count": null,
            "_view_module_version": "1.2.0",
            "_model_module": "@jupyter-widgets/controls"
          }
        },
        "2f558bc1b9f8494db73c6e35135d48f1": {
          "model_module": "@jupyter-widgets/base",
          "model_name": "LayoutModel",
          "model_module_version": "1.2.0",
          "state": {
            "_view_name": "LayoutView",
            "grid_template_rows": null,
            "right": null,
            "justify_content": null,
            "_view_module": "@jupyter-widgets/base",
            "overflow": null,
            "_model_module_version": "1.2.0",
            "_view_count": null,
            "flex_flow": null,
            "width": null,
            "min_width": null,
            "border": null,
            "align_items": null,
            "bottom": null,
            "_model_module": "@jupyter-widgets/base",
            "top": null,
            "grid_column": null,
            "overflow_y": null,
            "overflow_x": null,
            "grid_auto_flow": null,
            "grid_area": null,
            "grid_template_columns": null,
            "flex": null,
            "_model_name": "LayoutModel",
            "justify_items": null,
            "grid_row": null,
            "max_height": null,
            "align_content": null,
            "visibility": null,
            "align_self": null,
            "height": null,
            "min_height": null,
            "padding": null,
            "grid_auto_rows": null,
            "grid_gap": null,
            "max_width": null,
            "order": null,
            "_view_module_version": "1.2.0",
            "grid_template_areas": null,
            "object_position": null,
            "object_fit": null,
            "grid_auto_columns": null,
            "margin": null,
            "display": null,
            "left": null
          }
        },
        "883a440733d649cf9f1e052feaa416f3": {
          "model_module": "@jupyter-widgets/controls",
          "model_name": "ProgressStyleModel",
          "model_module_version": "1.5.0",
          "state": {
            "_view_name": "StyleView",
            "_model_name": "ProgressStyleModel",
            "description_width": "",
            "_view_module": "@jupyter-widgets/base",
            "_model_module_version": "1.5.0",
            "_view_count": null,
            "_view_module_version": "1.2.0",
            "bar_color": null,
            "_model_module": "@jupyter-widgets/controls"
          }
        },
        "007334a0f9d24511bee96865d5beada5": {
          "model_module": "@jupyter-widgets/base",
          "model_name": "LayoutModel",
          "model_module_version": "1.2.0",
          "state": {
            "_view_name": "LayoutView",
            "grid_template_rows": null,
            "right": null,
            "justify_content": null,
            "_view_module": "@jupyter-widgets/base",
            "overflow": null,
            "_model_module_version": "1.2.0",
            "_view_count": null,
            "flex_flow": null,
            "width": null,
            "min_width": null,
            "border": null,
            "align_items": null,
            "bottom": null,
            "_model_module": "@jupyter-widgets/base",
            "top": null,
            "grid_column": null,
            "overflow_y": null,
            "overflow_x": null,
            "grid_auto_flow": null,
            "grid_area": null,
            "grid_template_columns": null,
            "flex": null,
            "_model_name": "LayoutModel",
            "justify_items": null,
            "grid_row": null,
            "max_height": null,
            "align_content": null,
            "visibility": null,
            "align_self": null,
            "height": null,
            "min_height": null,
            "padding": null,
            "grid_auto_rows": null,
            "grid_gap": null,
            "max_width": null,
            "order": null,
            "_view_module_version": "1.2.0",
            "grid_template_areas": null,
            "object_position": null,
            "object_fit": null,
            "grid_auto_columns": null,
            "margin": null,
            "display": null,
            "left": null
          }
        },
        "e72c448a7c864696995857fe81ee4e82": {
          "model_module": "@jupyter-widgets/controls",
          "model_name": "DescriptionStyleModel",
          "model_module_version": "1.5.0",
          "state": {
            "_view_name": "StyleView",
            "_model_name": "DescriptionStyleModel",
            "description_width": "",
            "_view_module": "@jupyter-widgets/base",
            "_model_module_version": "1.5.0",
            "_view_count": null,
            "_view_module_version": "1.2.0",
            "_model_module": "@jupyter-widgets/controls"
          }
        },
        "57559e8a1cf3403ea218c82325cecf17": {
          "model_module": "@jupyter-widgets/base",
          "model_name": "LayoutModel",
          "model_module_version": "1.2.0",
          "state": {
            "_view_name": "LayoutView",
            "grid_template_rows": null,
            "right": null,
            "justify_content": null,
            "_view_module": "@jupyter-widgets/base",
            "overflow": null,
            "_model_module_version": "1.2.0",
            "_view_count": null,
            "flex_flow": null,
            "width": null,
            "min_width": null,
            "border": null,
            "align_items": null,
            "bottom": null,
            "_model_module": "@jupyter-widgets/base",
            "top": null,
            "grid_column": null,
            "overflow_y": null,
            "overflow_x": null,
            "grid_auto_flow": null,
            "grid_area": null,
            "grid_template_columns": null,
            "flex": null,
            "_model_name": "LayoutModel",
            "justify_items": null,
            "grid_row": null,
            "max_height": null,
            "align_content": null,
            "visibility": null,
            "align_self": null,
            "height": null,
            "min_height": null,
            "padding": null,
            "grid_auto_rows": null,
            "grid_gap": null,
            "max_width": null,
            "order": null,
            "_view_module_version": "1.2.0",
            "grid_template_areas": null,
            "object_position": null,
            "object_fit": null,
            "grid_auto_columns": null,
            "margin": null,
            "display": null,
            "left": null
          }
        },
        "b3dd0cba0ab444c8ac118797ed411b04": {
          "model_module": "@jupyter-widgets/controls",
          "model_name": "HBoxModel",
          "model_module_version": "1.5.0",
          "state": {
            "_view_name": "HBoxView",
            "_dom_classes": [],
            "_model_name": "HBoxModel",
            "_view_module": "@jupyter-widgets/controls",
            "_model_module_version": "1.5.0",
            "_view_count": null,
            "_view_module_version": "1.5.0",
            "box_style": "",
            "layout": "IPY_MODEL_1aba0fde9e874bb99e06c43834a1274b",
            "_model_module": "@jupyter-widgets/controls",
            "children": [
              "IPY_MODEL_4855a6df72804a13bc311c2cbe75ba1a",
              "IPY_MODEL_87fb382c3f01482d940b3758e84d8e0d",
              "IPY_MODEL_b3e3d1cdb6f44637a299d17b817e980a"
            ]
          }
        },
        "1aba0fde9e874bb99e06c43834a1274b": {
          "model_module": "@jupyter-widgets/base",
          "model_name": "LayoutModel",
          "model_module_version": "1.2.0",
          "state": {
            "_view_name": "LayoutView",
            "grid_template_rows": null,
            "right": null,
            "justify_content": null,
            "_view_module": "@jupyter-widgets/base",
            "overflow": null,
            "_model_module_version": "1.2.0",
            "_view_count": null,
            "flex_flow": null,
            "width": null,
            "min_width": null,
            "border": null,
            "align_items": null,
            "bottom": null,
            "_model_module": "@jupyter-widgets/base",
            "top": null,
            "grid_column": null,
            "overflow_y": null,
            "overflow_x": null,
            "grid_auto_flow": null,
            "grid_area": null,
            "grid_template_columns": null,
            "flex": null,
            "_model_name": "LayoutModel",
            "justify_items": null,
            "grid_row": null,
            "max_height": null,
            "align_content": null,
            "visibility": null,
            "align_self": null,
            "height": null,
            "min_height": null,
            "padding": null,
            "grid_auto_rows": null,
            "grid_gap": null,
            "max_width": null,
            "order": null,
            "_view_module_version": "1.2.0",
            "grid_template_areas": null,
            "object_position": null,
            "object_fit": null,
            "grid_auto_columns": null,
            "margin": null,
            "display": null,
            "left": null
          }
        },
        "4855a6df72804a13bc311c2cbe75ba1a": {
          "model_module": "@jupyter-widgets/controls",
          "model_name": "HTMLModel",
          "model_module_version": "1.5.0",
          "state": {
            "_view_name": "HTMLView",
            "style": "IPY_MODEL_e6a006d4cf704cd9bb4e336a847cdfb4",
            "_dom_classes": [],
            "description": "",
            "_model_name": "HTMLModel",
            "placeholder": "​",
            "_view_module": "@jupyter-widgets/controls",
            "_model_module_version": "1.5.0",
            "value": "",
            "_view_count": null,
            "_view_module_version": "1.5.0",
            "description_tooltip": null,
            "_model_module": "@jupyter-widgets/controls",
            "layout": "IPY_MODEL_ceea192cd1bb4e4b9e6302fba4ea63cf"
          }
        },
        "87fb382c3f01482d940b3758e84d8e0d": {
          "model_module": "@jupyter-widgets/controls",
          "model_name": "FloatProgressModel",
          "model_module_version": "1.5.0",
          "state": {
            "_view_name": "ProgressView",
            "style": "IPY_MODEL_388f01fe10874913b51fce41dd0de176",
            "_dom_classes": [],
            "description": "",
            "_model_name": "FloatProgressModel",
            "bar_style": "success",
            "max": 28881,
            "_view_module": "@jupyter-widgets/controls",
            "_model_module_version": "1.5.0",
            "value": 28881,
            "_view_count": null,
            "_view_module_version": "1.5.0",
            "orientation": "horizontal",
            "min": 0,
            "description_tooltip": null,
            "_model_module": "@jupyter-widgets/controls",
            "layout": "IPY_MODEL_b9187de21b17487b987d4f64c774aff3"
          }
        },
        "b3e3d1cdb6f44637a299d17b817e980a": {
          "model_module": "@jupyter-widgets/controls",
          "model_name": "HTMLModel",
          "model_module_version": "1.5.0",
          "state": {
            "_view_name": "HTMLView",
            "style": "IPY_MODEL_843fffc44ba342ce8bf054b8886648ed",
            "_dom_classes": [],
            "description": "",
            "_model_name": "HTMLModel",
            "placeholder": "​",
            "_view_module": "@jupyter-widgets/controls",
            "_model_module_version": "1.5.0",
            "value": " 29696/? [00:00&lt;00:00, 715667.47it/s]",
            "_view_count": null,
            "_view_module_version": "1.5.0",
            "description_tooltip": null,
            "_model_module": "@jupyter-widgets/controls",
            "layout": "IPY_MODEL_7f8a0b636bb742f9843b07746aa2b0ef"
          }
        },
        "e6a006d4cf704cd9bb4e336a847cdfb4": {
          "model_module": "@jupyter-widgets/controls",
          "model_name": "DescriptionStyleModel",
          "model_module_version": "1.5.0",
          "state": {
            "_view_name": "StyleView",
            "_model_name": "DescriptionStyleModel",
            "description_width": "",
            "_view_module": "@jupyter-widgets/base",
            "_model_module_version": "1.5.0",
            "_view_count": null,
            "_view_module_version": "1.2.0",
            "_model_module": "@jupyter-widgets/controls"
          }
        },
        "ceea192cd1bb4e4b9e6302fba4ea63cf": {
          "model_module": "@jupyter-widgets/base",
          "model_name": "LayoutModel",
          "model_module_version": "1.2.0",
          "state": {
            "_view_name": "LayoutView",
            "grid_template_rows": null,
            "right": null,
            "justify_content": null,
            "_view_module": "@jupyter-widgets/base",
            "overflow": null,
            "_model_module_version": "1.2.0",
            "_view_count": null,
            "flex_flow": null,
            "width": null,
            "min_width": null,
            "border": null,
            "align_items": null,
            "bottom": null,
            "_model_module": "@jupyter-widgets/base",
            "top": null,
            "grid_column": null,
            "overflow_y": null,
            "overflow_x": null,
            "grid_auto_flow": null,
            "grid_area": null,
            "grid_template_columns": null,
            "flex": null,
            "_model_name": "LayoutModel",
            "justify_items": null,
            "grid_row": null,
            "max_height": null,
            "align_content": null,
            "visibility": null,
            "align_self": null,
            "height": null,
            "min_height": null,
            "padding": null,
            "grid_auto_rows": null,
            "grid_gap": null,
            "max_width": null,
            "order": null,
            "_view_module_version": "1.2.0",
            "grid_template_areas": null,
            "object_position": null,
            "object_fit": null,
            "grid_auto_columns": null,
            "margin": null,
            "display": null,
            "left": null
          }
        },
        "388f01fe10874913b51fce41dd0de176": {
          "model_module": "@jupyter-widgets/controls",
          "model_name": "ProgressStyleModel",
          "model_module_version": "1.5.0",
          "state": {
            "_view_name": "StyleView",
            "_model_name": "ProgressStyleModel",
            "description_width": "",
            "_view_module": "@jupyter-widgets/base",
            "_model_module_version": "1.5.0",
            "_view_count": null,
            "_view_module_version": "1.2.0",
            "bar_color": null,
            "_model_module": "@jupyter-widgets/controls"
          }
        },
        "b9187de21b17487b987d4f64c774aff3": {
          "model_module": "@jupyter-widgets/base",
          "model_name": "LayoutModel",
          "model_module_version": "1.2.0",
          "state": {
            "_view_name": "LayoutView",
            "grid_template_rows": null,
            "right": null,
            "justify_content": null,
            "_view_module": "@jupyter-widgets/base",
            "overflow": null,
            "_model_module_version": "1.2.0",
            "_view_count": null,
            "flex_flow": null,
            "width": null,
            "min_width": null,
            "border": null,
            "align_items": null,
            "bottom": null,
            "_model_module": "@jupyter-widgets/base",
            "top": null,
            "grid_column": null,
            "overflow_y": null,
            "overflow_x": null,
            "grid_auto_flow": null,
            "grid_area": null,
            "grid_template_columns": null,
            "flex": null,
            "_model_name": "LayoutModel",
            "justify_items": null,
            "grid_row": null,
            "max_height": null,
            "align_content": null,
            "visibility": null,
            "align_self": null,
            "height": null,
            "min_height": null,
            "padding": null,
            "grid_auto_rows": null,
            "grid_gap": null,
            "max_width": null,
            "order": null,
            "_view_module_version": "1.2.0",
            "grid_template_areas": null,
            "object_position": null,
            "object_fit": null,
            "grid_auto_columns": null,
            "margin": null,
            "display": null,
            "left": null
          }
        },
        "843fffc44ba342ce8bf054b8886648ed": {
          "model_module": "@jupyter-widgets/controls",
          "model_name": "DescriptionStyleModel",
          "model_module_version": "1.5.0",
          "state": {
            "_view_name": "StyleView",
            "_model_name": "DescriptionStyleModel",
            "description_width": "",
            "_view_module": "@jupyter-widgets/base",
            "_model_module_version": "1.5.0",
            "_view_count": null,
            "_view_module_version": "1.2.0",
            "_model_module": "@jupyter-widgets/controls"
          }
        },
        "7f8a0b636bb742f9843b07746aa2b0ef": {
          "model_module": "@jupyter-widgets/base",
          "model_name": "LayoutModel",
          "model_module_version": "1.2.0",
          "state": {
            "_view_name": "LayoutView",
            "grid_template_rows": null,
            "right": null,
            "justify_content": null,
            "_view_module": "@jupyter-widgets/base",
            "overflow": null,
            "_model_module_version": "1.2.0",
            "_view_count": null,
            "flex_flow": null,
            "width": null,
            "min_width": null,
            "border": null,
            "align_items": null,
            "bottom": null,
            "_model_module": "@jupyter-widgets/base",
            "top": null,
            "grid_column": null,
            "overflow_y": null,
            "overflow_x": null,
            "grid_auto_flow": null,
            "grid_area": null,
            "grid_template_columns": null,
            "flex": null,
            "_model_name": "LayoutModel",
            "justify_items": null,
            "grid_row": null,
            "max_height": null,
            "align_content": null,
            "visibility": null,
            "align_self": null,
            "height": null,
            "min_height": null,
            "padding": null,
            "grid_auto_rows": null,
            "grid_gap": null,
            "max_width": null,
            "order": null,
            "_view_module_version": "1.2.0",
            "grid_template_areas": null,
            "object_position": null,
            "object_fit": null,
            "grid_auto_columns": null,
            "margin": null,
            "display": null,
            "left": null
          }
        },
        "a4c18cc32df04c7cbf689cafaa25e426": {
          "model_module": "@jupyter-widgets/controls",
          "model_name": "HBoxModel",
          "model_module_version": "1.5.0",
          "state": {
            "_view_name": "HBoxView",
            "_dom_classes": [],
            "_model_name": "HBoxModel",
            "_view_module": "@jupyter-widgets/controls",
            "_model_module_version": "1.5.0",
            "_view_count": null,
            "_view_module_version": "1.5.0",
            "box_style": "",
            "layout": "IPY_MODEL_2266d04e066d4d57841fccac1f8a415b",
            "_model_module": "@jupyter-widgets/controls",
            "children": [
              "IPY_MODEL_927fd34e07674abb888ce9219c5025c3",
              "IPY_MODEL_a6648c56b7284c2291828e4cdf7a9a84",
              "IPY_MODEL_fcf0ea98e10a42a3b9d946b61f21e29f"
            ]
          }
        },
        "2266d04e066d4d57841fccac1f8a415b": {
          "model_module": "@jupyter-widgets/base",
          "model_name": "LayoutModel",
          "model_module_version": "1.2.0",
          "state": {
            "_view_name": "LayoutView",
            "grid_template_rows": null,
            "right": null,
            "justify_content": null,
            "_view_module": "@jupyter-widgets/base",
            "overflow": null,
            "_model_module_version": "1.2.0",
            "_view_count": null,
            "flex_flow": null,
            "width": null,
            "min_width": null,
            "border": null,
            "align_items": null,
            "bottom": null,
            "_model_module": "@jupyter-widgets/base",
            "top": null,
            "grid_column": null,
            "overflow_y": null,
            "overflow_x": null,
            "grid_auto_flow": null,
            "grid_area": null,
            "grid_template_columns": null,
            "flex": null,
            "_model_name": "LayoutModel",
            "justify_items": null,
            "grid_row": null,
            "max_height": null,
            "align_content": null,
            "visibility": null,
            "align_self": null,
            "height": null,
            "min_height": null,
            "padding": null,
            "grid_auto_rows": null,
            "grid_gap": null,
            "max_width": null,
            "order": null,
            "_view_module_version": "1.2.0",
            "grid_template_areas": null,
            "object_position": null,
            "object_fit": null,
            "grid_auto_columns": null,
            "margin": null,
            "display": null,
            "left": null
          }
        },
        "927fd34e07674abb888ce9219c5025c3": {
          "model_module": "@jupyter-widgets/controls",
          "model_name": "HTMLModel",
          "model_module_version": "1.5.0",
          "state": {
            "_view_name": "HTMLView",
            "style": "IPY_MODEL_f74c36db6bf44a6fa6f6214e38ae48dd",
            "_dom_classes": [],
            "description": "",
            "_model_name": "HTMLModel",
            "placeholder": "​",
            "_view_module": "@jupyter-widgets/controls",
            "_model_module_version": "1.5.0",
            "value": "",
            "_view_count": null,
            "_view_module_version": "1.5.0",
            "description_tooltip": null,
            "_model_module": "@jupyter-widgets/controls",
            "layout": "IPY_MODEL_cb223c9b39b6457c82d72e7f3fa1fd83"
          }
        },
        "a6648c56b7284c2291828e4cdf7a9a84": {
          "model_module": "@jupyter-widgets/controls",
          "model_name": "FloatProgressModel",
          "model_module_version": "1.5.0",
          "state": {
            "_view_name": "ProgressView",
            "style": "IPY_MODEL_636da99fea43458a815135f720ee2246",
            "_dom_classes": [],
            "description": "",
            "_model_name": "FloatProgressModel",
            "bar_style": "success",
            "max": 1648877,
            "_view_module": "@jupyter-widgets/controls",
            "_model_module_version": "1.5.0",
            "value": 1648877,
            "_view_count": null,
            "_view_module_version": "1.5.0",
            "orientation": "horizontal",
            "min": 0,
            "description_tooltip": null,
            "_model_module": "@jupyter-widgets/controls",
            "layout": "IPY_MODEL_beddc0bc5e4c41d0beda26daf0046222"
          }
        },
        "fcf0ea98e10a42a3b9d946b61f21e29f": {
          "model_module": "@jupyter-widgets/controls",
          "model_name": "HTMLModel",
          "model_module_version": "1.5.0",
          "state": {
            "_view_name": "HTMLView",
            "style": "IPY_MODEL_d2d85b966c2b443cb6a9166ea1f46ee1",
            "_dom_classes": [],
            "description": "",
            "_model_name": "HTMLModel",
            "placeholder": "​",
            "_view_module": "@jupyter-widgets/controls",
            "_model_module_version": "1.5.0",
            "value": " 1649664/? [00:00&lt;00:00, 14395943.53it/s]",
            "_view_count": null,
            "_view_module_version": "1.5.0",
            "description_tooltip": null,
            "_model_module": "@jupyter-widgets/controls",
            "layout": "IPY_MODEL_b430560d370a4a8f8aaa3068d9b5285a"
          }
        },
        "f74c36db6bf44a6fa6f6214e38ae48dd": {
          "model_module": "@jupyter-widgets/controls",
          "model_name": "DescriptionStyleModel",
          "model_module_version": "1.5.0",
          "state": {
            "_view_name": "StyleView",
            "_model_name": "DescriptionStyleModel",
            "description_width": "",
            "_view_module": "@jupyter-widgets/base",
            "_model_module_version": "1.5.0",
            "_view_count": null,
            "_view_module_version": "1.2.0",
            "_model_module": "@jupyter-widgets/controls"
          }
        },
        "cb223c9b39b6457c82d72e7f3fa1fd83": {
          "model_module": "@jupyter-widgets/base",
          "model_name": "LayoutModel",
          "model_module_version": "1.2.0",
          "state": {
            "_view_name": "LayoutView",
            "grid_template_rows": null,
            "right": null,
            "justify_content": null,
            "_view_module": "@jupyter-widgets/base",
            "overflow": null,
            "_model_module_version": "1.2.0",
            "_view_count": null,
            "flex_flow": null,
            "width": null,
            "min_width": null,
            "border": null,
            "align_items": null,
            "bottom": null,
            "_model_module": "@jupyter-widgets/base",
            "top": null,
            "grid_column": null,
            "overflow_y": null,
            "overflow_x": null,
            "grid_auto_flow": null,
            "grid_area": null,
            "grid_template_columns": null,
            "flex": null,
            "_model_name": "LayoutModel",
            "justify_items": null,
            "grid_row": null,
            "max_height": null,
            "align_content": null,
            "visibility": null,
            "align_self": null,
            "height": null,
            "min_height": null,
            "padding": null,
            "grid_auto_rows": null,
            "grid_gap": null,
            "max_width": null,
            "order": null,
            "_view_module_version": "1.2.0",
            "grid_template_areas": null,
            "object_position": null,
            "object_fit": null,
            "grid_auto_columns": null,
            "margin": null,
            "display": null,
            "left": null
          }
        },
        "636da99fea43458a815135f720ee2246": {
          "model_module": "@jupyter-widgets/controls",
          "model_name": "ProgressStyleModel",
          "model_module_version": "1.5.0",
          "state": {
            "_view_name": "StyleView",
            "_model_name": "ProgressStyleModel",
            "description_width": "",
            "_view_module": "@jupyter-widgets/base",
            "_model_module_version": "1.5.0",
            "_view_count": null,
            "_view_module_version": "1.2.0",
            "bar_color": null,
            "_model_module": "@jupyter-widgets/controls"
          }
        },
        "beddc0bc5e4c41d0beda26daf0046222": {
          "model_module": "@jupyter-widgets/base",
          "model_name": "LayoutModel",
          "model_module_version": "1.2.0",
          "state": {
            "_view_name": "LayoutView",
            "grid_template_rows": null,
            "right": null,
            "justify_content": null,
            "_view_module": "@jupyter-widgets/base",
            "overflow": null,
            "_model_module_version": "1.2.0",
            "_view_count": null,
            "flex_flow": null,
            "width": null,
            "min_width": null,
            "border": null,
            "align_items": null,
            "bottom": null,
            "_model_module": "@jupyter-widgets/base",
            "top": null,
            "grid_column": null,
            "overflow_y": null,
            "overflow_x": null,
            "grid_auto_flow": null,
            "grid_area": null,
            "grid_template_columns": null,
            "flex": null,
            "_model_name": "LayoutModel",
            "justify_items": null,
            "grid_row": null,
            "max_height": null,
            "align_content": null,
            "visibility": null,
            "align_self": null,
            "height": null,
            "min_height": null,
            "padding": null,
            "grid_auto_rows": null,
            "grid_gap": null,
            "max_width": null,
            "order": null,
            "_view_module_version": "1.2.0",
            "grid_template_areas": null,
            "object_position": null,
            "object_fit": null,
            "grid_auto_columns": null,
            "margin": null,
            "display": null,
            "left": null
          }
        },
        "d2d85b966c2b443cb6a9166ea1f46ee1": {
          "model_module": "@jupyter-widgets/controls",
          "model_name": "DescriptionStyleModel",
          "model_module_version": "1.5.0",
          "state": {
            "_view_name": "StyleView",
            "_model_name": "DescriptionStyleModel",
            "description_width": "",
            "_view_module": "@jupyter-widgets/base",
            "_model_module_version": "1.5.0",
            "_view_count": null,
            "_view_module_version": "1.2.0",
            "_model_module": "@jupyter-widgets/controls"
          }
        },
        "b430560d370a4a8f8aaa3068d9b5285a": {
          "model_module": "@jupyter-widgets/base",
          "model_name": "LayoutModel",
          "model_module_version": "1.2.0",
          "state": {
            "_view_name": "LayoutView",
            "grid_template_rows": null,
            "right": null,
            "justify_content": null,
            "_view_module": "@jupyter-widgets/base",
            "overflow": null,
            "_model_module_version": "1.2.0",
            "_view_count": null,
            "flex_flow": null,
            "width": null,
            "min_width": null,
            "border": null,
            "align_items": null,
            "bottom": null,
            "_model_module": "@jupyter-widgets/base",
            "top": null,
            "grid_column": null,
            "overflow_y": null,
            "overflow_x": null,
            "grid_auto_flow": null,
            "grid_area": null,
            "grid_template_columns": null,
            "flex": null,
            "_model_name": "LayoutModel",
            "justify_items": null,
            "grid_row": null,
            "max_height": null,
            "align_content": null,
            "visibility": null,
            "align_self": null,
            "height": null,
            "min_height": null,
            "padding": null,
            "grid_auto_rows": null,
            "grid_gap": null,
            "max_width": null,
            "order": null,
            "_view_module_version": "1.2.0",
            "grid_template_areas": null,
            "object_position": null,
            "object_fit": null,
            "grid_auto_columns": null,
            "margin": null,
            "display": null,
            "left": null
          }
        },
        "076c5841e0764991aaaf001a587f02e7": {
          "model_module": "@jupyter-widgets/controls",
          "model_name": "HBoxModel",
          "model_module_version": "1.5.0",
          "state": {
            "_view_name": "HBoxView",
            "_dom_classes": [],
            "_model_name": "HBoxModel",
            "_view_module": "@jupyter-widgets/controls",
            "_model_module_version": "1.5.0",
            "_view_count": null,
            "_view_module_version": "1.5.0",
            "box_style": "",
            "layout": "IPY_MODEL_d075664348e246c7bc9d91ed82b0967b",
            "_model_module": "@jupyter-widgets/controls",
            "children": [
              "IPY_MODEL_d53efc4b2d2b435ea603d931b291d0a2",
              "IPY_MODEL_2556653ee6cf40a693001d5561d4b486",
              "IPY_MODEL_4f985cc1e1e84b599224acaefeb54253"
            ]
          }
        },
        "d075664348e246c7bc9d91ed82b0967b": {
          "model_module": "@jupyter-widgets/base",
          "model_name": "LayoutModel",
          "model_module_version": "1.2.0",
          "state": {
            "_view_name": "LayoutView",
            "grid_template_rows": null,
            "right": null,
            "justify_content": null,
            "_view_module": "@jupyter-widgets/base",
            "overflow": null,
            "_model_module_version": "1.2.0",
            "_view_count": null,
            "flex_flow": null,
            "width": null,
            "min_width": null,
            "border": null,
            "align_items": null,
            "bottom": null,
            "_model_module": "@jupyter-widgets/base",
            "top": null,
            "grid_column": null,
            "overflow_y": null,
            "overflow_x": null,
            "grid_auto_flow": null,
            "grid_area": null,
            "grid_template_columns": null,
            "flex": null,
            "_model_name": "LayoutModel",
            "justify_items": null,
            "grid_row": null,
            "max_height": null,
            "align_content": null,
            "visibility": null,
            "align_self": null,
            "height": null,
            "min_height": null,
            "padding": null,
            "grid_auto_rows": null,
            "grid_gap": null,
            "max_width": null,
            "order": null,
            "_view_module_version": "1.2.0",
            "grid_template_areas": null,
            "object_position": null,
            "object_fit": null,
            "grid_auto_columns": null,
            "margin": null,
            "display": null,
            "left": null
          }
        },
        "d53efc4b2d2b435ea603d931b291d0a2": {
          "model_module": "@jupyter-widgets/controls",
          "model_name": "HTMLModel",
          "model_module_version": "1.5.0",
          "state": {
            "_view_name": "HTMLView",
            "style": "IPY_MODEL_dac6b6d91a8649eda2fe1fcdf5848398",
            "_dom_classes": [],
            "description": "",
            "_model_name": "HTMLModel",
            "placeholder": "​",
            "_view_module": "@jupyter-widgets/controls",
            "_model_module_version": "1.5.0",
            "value": "",
            "_view_count": null,
            "_view_module_version": "1.5.0",
            "description_tooltip": null,
            "_model_module": "@jupyter-widgets/controls",
            "layout": "IPY_MODEL_bc29f926403642a19a54469afe9aa890"
          }
        },
        "2556653ee6cf40a693001d5561d4b486": {
          "model_module": "@jupyter-widgets/controls",
          "model_name": "FloatProgressModel",
          "model_module_version": "1.5.0",
          "state": {
            "_view_name": "ProgressView",
            "style": "IPY_MODEL_ae6bbe282a454959b67fb47d74f03269",
            "_dom_classes": [],
            "description": "",
            "_model_name": "FloatProgressModel",
            "bar_style": "success",
            "max": 4542,
            "_view_module": "@jupyter-widgets/controls",
            "_model_module_version": "1.5.0",
            "value": 4542,
            "_view_count": null,
            "_view_module_version": "1.5.0",
            "orientation": "horizontal",
            "min": 0,
            "description_tooltip": null,
            "_model_module": "@jupyter-widgets/controls",
            "layout": "IPY_MODEL_015153f5552042bea9935fee084ff015"
          }
        },
        "4f985cc1e1e84b599224acaefeb54253": {
          "model_module": "@jupyter-widgets/controls",
          "model_name": "HTMLModel",
          "model_module_version": "1.5.0",
          "state": {
            "_view_name": "HTMLView",
            "style": "IPY_MODEL_354ed4c328fb43a6a3a45d5d734c25f7",
            "_dom_classes": [],
            "description": "",
            "_model_name": "HTMLModel",
            "placeholder": "​",
            "_view_module": "@jupyter-widgets/controls",
            "_model_module_version": "1.5.0",
            "value": " 5120/? [00:00&lt;00:00, 102659.54it/s]",
            "_view_count": null,
            "_view_module_version": "1.5.0",
            "description_tooltip": null,
            "_model_module": "@jupyter-widgets/controls",
            "layout": "IPY_MODEL_f20c1a2129c34033823c152a03c80841"
          }
        },
        "dac6b6d91a8649eda2fe1fcdf5848398": {
          "model_module": "@jupyter-widgets/controls",
          "model_name": "DescriptionStyleModel",
          "model_module_version": "1.5.0",
          "state": {
            "_view_name": "StyleView",
            "_model_name": "DescriptionStyleModel",
            "description_width": "",
            "_view_module": "@jupyter-widgets/base",
            "_model_module_version": "1.5.0",
            "_view_count": null,
            "_view_module_version": "1.2.0",
            "_model_module": "@jupyter-widgets/controls"
          }
        },
        "bc29f926403642a19a54469afe9aa890": {
          "model_module": "@jupyter-widgets/base",
          "model_name": "LayoutModel",
          "model_module_version": "1.2.0",
          "state": {
            "_view_name": "LayoutView",
            "grid_template_rows": null,
            "right": null,
            "justify_content": null,
            "_view_module": "@jupyter-widgets/base",
            "overflow": null,
            "_model_module_version": "1.2.0",
            "_view_count": null,
            "flex_flow": null,
            "width": null,
            "min_width": null,
            "border": null,
            "align_items": null,
            "bottom": null,
            "_model_module": "@jupyter-widgets/base",
            "top": null,
            "grid_column": null,
            "overflow_y": null,
            "overflow_x": null,
            "grid_auto_flow": null,
            "grid_area": null,
            "grid_template_columns": null,
            "flex": null,
            "_model_name": "LayoutModel",
            "justify_items": null,
            "grid_row": null,
            "max_height": null,
            "align_content": null,
            "visibility": null,
            "align_self": null,
            "height": null,
            "min_height": null,
            "padding": null,
            "grid_auto_rows": null,
            "grid_gap": null,
            "max_width": null,
            "order": null,
            "_view_module_version": "1.2.0",
            "grid_template_areas": null,
            "object_position": null,
            "object_fit": null,
            "grid_auto_columns": null,
            "margin": null,
            "display": null,
            "left": null
          }
        },
        "ae6bbe282a454959b67fb47d74f03269": {
          "model_module": "@jupyter-widgets/controls",
          "model_name": "ProgressStyleModel",
          "model_module_version": "1.5.0",
          "state": {
            "_view_name": "StyleView",
            "_model_name": "ProgressStyleModel",
            "description_width": "",
            "_view_module": "@jupyter-widgets/base",
            "_model_module_version": "1.5.0",
            "_view_count": null,
            "_view_module_version": "1.2.0",
            "bar_color": null,
            "_model_module": "@jupyter-widgets/controls"
          }
        },
        "015153f5552042bea9935fee084ff015": {
          "model_module": "@jupyter-widgets/base",
          "model_name": "LayoutModel",
          "model_module_version": "1.2.0",
          "state": {
            "_view_name": "LayoutView",
            "grid_template_rows": null,
            "right": null,
            "justify_content": null,
            "_view_module": "@jupyter-widgets/base",
            "overflow": null,
            "_model_module_version": "1.2.0",
            "_view_count": null,
            "flex_flow": null,
            "width": null,
            "min_width": null,
            "border": null,
            "align_items": null,
            "bottom": null,
            "_model_module": "@jupyter-widgets/base",
            "top": null,
            "grid_column": null,
            "overflow_y": null,
            "overflow_x": null,
            "grid_auto_flow": null,
            "grid_area": null,
            "grid_template_columns": null,
            "flex": null,
            "_model_name": "LayoutModel",
            "justify_items": null,
            "grid_row": null,
            "max_height": null,
            "align_content": null,
            "visibility": null,
            "align_self": null,
            "height": null,
            "min_height": null,
            "padding": null,
            "grid_auto_rows": null,
            "grid_gap": null,
            "max_width": null,
            "order": null,
            "_view_module_version": "1.2.0",
            "grid_template_areas": null,
            "object_position": null,
            "object_fit": null,
            "grid_auto_columns": null,
            "margin": null,
            "display": null,
            "left": null
          }
        },
        "354ed4c328fb43a6a3a45d5d734c25f7": {
          "model_module": "@jupyter-widgets/controls",
          "model_name": "DescriptionStyleModel",
          "model_module_version": "1.5.0",
          "state": {
            "_view_name": "StyleView",
            "_model_name": "DescriptionStyleModel",
            "description_width": "",
            "_view_module": "@jupyter-widgets/base",
            "_model_module_version": "1.5.0",
            "_view_count": null,
            "_view_module_version": "1.2.0",
            "_model_module": "@jupyter-widgets/controls"
          }
        },
        "f20c1a2129c34033823c152a03c80841": {
          "model_module": "@jupyter-widgets/base",
          "model_name": "LayoutModel",
          "model_module_version": "1.2.0",
          "state": {
            "_view_name": "LayoutView",
            "grid_template_rows": null,
            "right": null,
            "justify_content": null,
            "_view_module": "@jupyter-widgets/base",
            "overflow": null,
            "_model_module_version": "1.2.0",
            "_view_count": null,
            "flex_flow": null,
            "width": null,
            "min_width": null,
            "border": null,
            "align_items": null,
            "bottom": null,
            "_model_module": "@jupyter-widgets/base",
            "top": null,
            "grid_column": null,
            "overflow_y": null,
            "overflow_x": null,
            "grid_auto_flow": null,
            "grid_area": null,
            "grid_template_columns": null,
            "flex": null,
            "_model_name": "LayoutModel",
            "justify_items": null,
            "grid_row": null,
            "max_height": null,
            "align_content": null,
            "visibility": null,
            "align_self": null,
            "height": null,
            "min_height": null,
            "padding": null,
            "grid_auto_rows": null,
            "grid_gap": null,
            "max_width": null,
            "order": null,
            "_view_module_version": "1.2.0",
            "grid_template_areas": null,
            "object_position": null,
            "object_fit": null,
            "grid_auto_columns": null,
            "margin": null,
            "display": null,
            "left": null
          }
        }
      }
    }
  },
  "cells": [
    {
      "cell_type": "markdown",
      "metadata": {
        "id": "view-in-github",
        "colab_type": "text"
      },
      "source": [
        "<a href=\"https://colab.research.google.com/github/prathyu-github/SchoolofAI---Assignments/blob/main/Session_03/Classification_and_Addition.ipynb\" target=\"_parent\"><img src=\"https://colab.research.google.com/assets/colab-badge.svg\" alt=\"Open In Colab\"/></a>"
      ]
    },
    {
      "cell_type": "markdown",
      "metadata": {
        "id": "sFZ032ee87Iz"
      },
      "source": [
        "# Import Libraries and Modules"
      ]
    },
    {
      "cell_type": "code",
      "metadata": {
        "id": "Szie4d9zq0ux",
        "colab": {
          "base_uri": "https://localhost:8080/"
        },
        "outputId": "5706d4b4-0298-41dd-ba4c-0d82783137a6"
      },
      "source": [
        "import torch\n",
        "import torchvision # provide access to datasets, models, transforms, utils, etc\n",
        "import torchvision.transforms as transforms\n",
        "from torch.utils.data import Dataset, TensorDataset, DataLoader\n",
        "import numpy as np\n",
        "import matplotlib.pyplot as plt\n",
        "import torch.nn as nn\n",
        "import torch.nn.functional as F\n",
        "import torch.optim as optim\n",
        "from torchsummary import summary\n",
        "from random import randint\n",
        "\n",
        "torch.set_printoptions(linewidth=120)\n",
        "\n",
        "# Setting up the device\n",
        "device = torch.device(\"cuda:0\" if torch.cuda.is_available() else \"cpu\")\n",
        "\n",
        "# Assuming that we are on a CUDA machine, this should print a CUDA device:\n",
        "print(\"The device available is: \", device)"
      ],
      "execution_count": 1,
      "outputs": [
        {
          "output_type": "stream",
          "name": "stdout",
          "text": [
            "The device available is:  cuda:0\n"
          ]
        }
      ]
    },
    {
      "cell_type": "markdown",
      "metadata": {
        "id": "PnMjylyn8-Vl"
      },
      "source": [
        "# Create Combined Dataset"
      ]
    },
    {
      "cell_type": "code",
      "metadata": {
        "id": "S76rBTqBEXl_",
        "colab": {
          "base_uri": "https://localhost:8080/",
          "height": 471,
          "referenced_widgets": [
            "742b74aa12884ef485392f6f0c372418",
            "5184b91e3ef64910b9e55f492517618a",
            "c75bf8a92e38409aa9dfef81135b5358",
            "7d736789c322475fbb45fb127a5993f3",
            "f4e6ee2b0e0b4320a0dbab32a024a986",
            "776d1f7c079b45e69acf69fe58458b27",
            "2f558bc1b9f8494db73c6e35135d48f1",
            "883a440733d649cf9f1e052feaa416f3",
            "007334a0f9d24511bee96865d5beada5",
            "e72c448a7c864696995857fe81ee4e82",
            "57559e8a1cf3403ea218c82325cecf17",
            "b3dd0cba0ab444c8ac118797ed411b04",
            "1aba0fde9e874bb99e06c43834a1274b",
            "4855a6df72804a13bc311c2cbe75ba1a",
            "87fb382c3f01482d940b3758e84d8e0d",
            "b3e3d1cdb6f44637a299d17b817e980a",
            "e6a006d4cf704cd9bb4e336a847cdfb4",
            "ceea192cd1bb4e4b9e6302fba4ea63cf",
            "388f01fe10874913b51fce41dd0de176",
            "b9187de21b17487b987d4f64c774aff3",
            "843fffc44ba342ce8bf054b8886648ed",
            "7f8a0b636bb742f9843b07746aa2b0ef",
            "a4c18cc32df04c7cbf689cafaa25e426",
            "2266d04e066d4d57841fccac1f8a415b",
            "927fd34e07674abb888ce9219c5025c3",
            "a6648c56b7284c2291828e4cdf7a9a84",
            "fcf0ea98e10a42a3b9d946b61f21e29f",
            "f74c36db6bf44a6fa6f6214e38ae48dd",
            "cb223c9b39b6457c82d72e7f3fa1fd83",
            "636da99fea43458a815135f720ee2246",
            "beddc0bc5e4c41d0beda26daf0046222",
            "d2d85b966c2b443cb6a9166ea1f46ee1",
            "b430560d370a4a8f8aaa3068d9b5285a",
            "076c5841e0764991aaaf001a587f02e7",
            "d075664348e246c7bc9d91ed82b0967b",
            "d53efc4b2d2b435ea603d931b291d0a2",
            "2556653ee6cf40a693001d5561d4b486",
            "4f985cc1e1e84b599224acaefeb54253",
            "dac6b6d91a8649eda2fe1fcdf5848398",
            "bc29f926403642a19a54469afe9aa890",
            "ae6bbe282a454959b67fb47d74f03269",
            "015153f5552042bea9935fee084ff015",
            "354ed4c328fb43a6a3a45d5d734c25f7",
            "f20c1a2129c34033823c152a03c80841"
          ]
        },
        "outputId": "c71b6130-ce8b-4702-d36e-0068fd55f529"
      },
      "source": [
        "# Create a class to combine MNIST dataset and random numbers between 0 and 9\n",
        "class Combined_Dataset():\n",
        "\n",
        "  # We pass the train variable to get train or test data, and batch_size\n",
        "  def __init__(self, train, batch_size):\n",
        "\n",
        "      self.batch_size = batch_size\n",
        "      # Load the MNIST data into the data_loader object\n",
        "      self.data_loader = torch.utils.data.DataLoader(\n",
        "          torchvision.datasets.MNIST('/files/', train=train, download=True,\n",
        "                                transform=torchvision.transforms.Compose([\n",
        "                                  torchvision.transforms.ToTensor(),\n",
        "                                  torchvision.transforms.Normalize(\n",
        "                                    (0.1307,), (0.3081,))\n",
        "                                ])),\n",
        "          batch_size=self.batch_size, shuffle=True)\n",
        "\n",
        "      # Number of samples in the dataaset\n",
        "      self.dataset = self.data_loader.dataset            \n",
        "\n",
        "  # getitem function creats batches of our dataset on the fly by calling next(iter())\n",
        "  def __getitem__(self, index):\n",
        "      # Extract one batch of the MNIST data_loader\n",
        "      image, label = next(iter(self.data_loader))\n",
        "\n",
        "      # Generate randoms numbers between 0 and 9 of size=batch_size. The datatype is float as this is the input required for the network\n",
        "      random_numbers = torch.tensor([randint(0,9) for _ in range(self.batch_size)], dtype=torch.float32)\n",
        "\n",
        "      # Combine inputs and outputs as a list after transfering the tensors to the GPU\n",
        "      x = [image.to(device), random_numbers.to(device)]\n",
        "      # y labels for addition of number is reshaped to [32,1] as MSE requires it in this format\n",
        "      y = [label.to(device), (label+random_numbers).reshape([32,1]).to(device)]\n",
        "\n",
        "      return x, y\n",
        "\n",
        "  def __len__(self):\n",
        "      return len(self.data_loader)\n",
        "\n",
        "# Set the batch size\n",
        "batch_size = 32\n",
        "\n",
        "# Create the train and test dataset\n",
        "train_data = Combined_Dataset(train=True, batch_size=batch_size)\n",
        "test_data = Combined_Dataset(train=False, batch_size=batch_size)"
      ],
      "execution_count": 2,
      "outputs": [
        {
          "output_type": "stream",
          "name": "stdout",
          "text": [
            "Downloading http://yann.lecun.com/exdb/mnist/train-images-idx3-ubyte.gz\n",
            "Downloading http://yann.lecun.com/exdb/mnist/train-images-idx3-ubyte.gz to /files/MNIST/raw/train-images-idx3-ubyte.gz\n"
          ]
        },
        {
          "output_type": "display_data",
          "data": {
            "application/vnd.jupyter.widget-view+json": {
              "model_id": "742b74aa12884ef485392f6f0c372418",
              "version_minor": 0,
              "version_major": 2
            },
            "text/plain": [
              "  0%|          | 0/9912422 [00:00<?, ?it/s]"
            ]
          },
          "metadata": {}
        },
        {
          "output_type": "stream",
          "name": "stdout",
          "text": [
            "Extracting /files/MNIST/raw/train-images-idx3-ubyte.gz to /files/MNIST/raw\n",
            "\n",
            "Downloading http://yann.lecun.com/exdb/mnist/train-labels-idx1-ubyte.gz\n",
            "Downloading http://yann.lecun.com/exdb/mnist/train-labels-idx1-ubyte.gz to /files/MNIST/raw/train-labels-idx1-ubyte.gz\n"
          ]
        },
        {
          "output_type": "display_data",
          "data": {
            "application/vnd.jupyter.widget-view+json": {
              "model_id": "b3dd0cba0ab444c8ac118797ed411b04",
              "version_minor": 0,
              "version_major": 2
            },
            "text/plain": [
              "  0%|          | 0/28881 [00:00<?, ?it/s]"
            ]
          },
          "metadata": {}
        },
        {
          "output_type": "stream",
          "name": "stdout",
          "text": [
            "Extracting /files/MNIST/raw/train-labels-idx1-ubyte.gz to /files/MNIST/raw\n",
            "\n",
            "Downloading http://yann.lecun.com/exdb/mnist/t10k-images-idx3-ubyte.gz\n",
            "Downloading http://yann.lecun.com/exdb/mnist/t10k-images-idx3-ubyte.gz to /files/MNIST/raw/t10k-images-idx3-ubyte.gz\n"
          ]
        },
        {
          "output_type": "display_data",
          "data": {
            "application/vnd.jupyter.widget-view+json": {
              "model_id": "a4c18cc32df04c7cbf689cafaa25e426",
              "version_minor": 0,
              "version_major": 2
            },
            "text/plain": [
              "  0%|          | 0/1648877 [00:00<?, ?it/s]"
            ]
          },
          "metadata": {}
        },
        {
          "output_type": "stream",
          "name": "stdout",
          "text": [
            "Extracting /files/MNIST/raw/t10k-images-idx3-ubyte.gz to /files/MNIST/raw\n",
            "\n",
            "Downloading http://yann.lecun.com/exdb/mnist/t10k-labels-idx1-ubyte.gz\n",
            "Downloading http://yann.lecun.com/exdb/mnist/t10k-labels-idx1-ubyte.gz to /files/MNIST/raw/t10k-labels-idx1-ubyte.gz\n"
          ]
        },
        {
          "output_type": "display_data",
          "data": {
            "application/vnd.jupyter.widget-view+json": {
              "model_id": "076c5841e0764991aaaf001a587f02e7",
              "version_minor": 0,
              "version_major": 2
            },
            "text/plain": [
              "  0%|          | 0/4542 [00:00<?, ?it/s]"
            ]
          },
          "metadata": {}
        },
        {
          "output_type": "stream",
          "name": "stdout",
          "text": [
            "Extracting /files/MNIST/raw/t10k-labels-idx1-ubyte.gz to /files/MNIST/raw\n",
            "\n"
          ]
        },
        {
          "output_type": "stream",
          "name": "stderr",
          "text": [
            "/usr/local/lib/python3.7/dist-packages/torchvision/datasets/mnist.py:498: UserWarning: The given NumPy array is not writeable, and PyTorch does not support non-writeable tensors. This means you can write to the underlying (supposedly non-writeable) NumPy array using the tensor. You may want to copy the array to protect its data or make it writeable before converting it to a tensor. This type of warning will be suppressed for the rest of this program. (Triggered internally at  /pytorch/torch/csrc/utils/tensor_numpy.cpp:180.)\n",
            "  return torch.from_numpy(parsed.astype(m[2], copy=False)).view(*s)\n"
          ]
        }
      ]
    },
    {
      "cell_type": "code",
      "metadata": {
        "colab": {
          "base_uri": "https://localhost:8080/"
        },
        "id": "PXyPAHTraQ6d",
        "outputId": "7273053a-f896-44c0-e564-2a8073a2208c"
      },
      "source": [
        "print(f\"Number of train batches: {len(train_data)}\")\n",
        "print(f\"Number of test batches: {len(test_data)}\")\n",
        "\n",
        "print(f\"Number of train samples: {len(train_data.dataset)}\")\n",
        "print(f\"Number of test samples: {len(test_data.dataset)}\")\n",
        "\n",
        "x, y = next(iter(train_data))\n",
        "\n",
        "print(f\"Shape of input data is: [{x[0].shape}, {x[1].shape}]\")\n",
        "print(f\"Shape of output data is: [{y[0].shape}, {y[1].shape}]\")"
      ],
      "execution_count": 3,
      "outputs": [
        {
          "output_type": "stream",
          "name": "stdout",
          "text": [
            "Number of train batches: 1875\n",
            "Number of test batches: 313\n",
            "Number of train samples: 60000\n",
            "Number of test samples: 10000\n",
            "Shape of input data is: [torch.Size([32, 1, 28, 28]), torch.Size([32])]\n",
            "Shape of output data is: [torch.Size([32]), torch.Size([32, 1])]\n"
          ]
        }
      ]
    },
    {
      "cell_type": "markdown",
      "metadata": {
        "id": "AdTl1PKm9QNl"
      },
      "source": [
        "# Building the Network"
      ]
    },
    {
      "cell_type": "code",
      "metadata": {
        "id": "wlKTHAH_OXBx"
      },
      "source": [
        "# Build the classifier and addition network\n",
        "class Network(nn.Module):\n",
        "    def __init__(self):\n",
        "        super().__init__()\n",
        "\n",
        "        # Classifier Network\n",
        "        self.input1 = nn.Conv2d(in_channels=1, out_channels=16, kernel_size=3) # output size = 26\n",
        "        self.conv1 = nn.Conv2d(in_channels=16, out_channels=32, kernel_size=3) # 24\n",
        "        self.conv2 = nn.Conv2d(in_channels=32, out_channels=64, kernel_size=3) # 22\n",
        "        self.pool = nn.MaxPool2d(2, 2) # 11\n",
        "\n",
        "        # 1x1 convolution\n",
        "        self.oneconv1 = nn.Conv2d(in_channels=64, out_channels=16, kernel_size=1) # 11\n",
        "        \n",
        "        self.conv3 = nn.Conv2d(in_channels=16, out_channels=32, kernel_size=3) # 9\n",
        "        self.conv4 = nn.Conv2d(in_channels=32, out_channels=64, kernel_size=3) # 7\n",
        "        self.conv5 = nn.Conv2d(in_channels=64, out_channels=64, kernel_size=3) # 5\n",
        "        self.conv6 = nn.Conv2d(in_channels=64, out_channels=10, kernel_size=5) # 1\n",
        "\n",
        "        # Addition network using fully connected layers\n",
        "        self.input2 = nn.Linear(in_features=2, out_features=5)\n",
        "        self.layer1 = nn.Linear(in_features=5, out_features=5)\n",
        "        self.out2 = nn.Linear(in_features=5, out_features=1)\n",
        "\n",
        "    def forward(self, data1, data2):\n",
        "        # Classifier Network forward prop\n",
        "        # first block\n",
        "        x = F.relu(self.input1(data1))\n",
        "        x = F.relu(self.conv1(x))\n",
        "        x = self.pool(F.relu(self.conv2(x)))\n",
        "        x = F.relu(self.oneconv1(x))\n",
        "        \n",
        "        # second block\n",
        "        x = F.relu(self.conv3(x))\n",
        "        x = F.relu(self.conv4(x))\n",
        "        x = F.relu(self.conv5(x))\n",
        "\n",
        "        # third block\n",
        "        x = self.conv6(x)\n",
        "        output1 = torch.flatten(x, start_dim=1) # flatten all dimensions except batch      \n",
        "\n",
        "        # Addition Network\n",
        "        # Collect the output of the classifier network and select the index with maximum value\n",
        "        x = torch.argmax(output1, dim=1)\n",
        "        # Use torch.stack to create pairs of network outputs and random numbers\n",
        "        x  = torch.stack((x.float(), data2), dim=1)\n",
        "        \n",
        "        # Pass the data through the addition network. No activation function required as addition of two numbers is a linear function\n",
        "        x = self.input2(x)\n",
        "        x = self.layer1(x)\n",
        "        output2 = self.out2(x)\n",
        "\n",
        "        # Return outputs from both the classifier and addition network\n",
        "        return output1, output2"
      ],
      "execution_count": 4,
      "outputs": []
    },
    {
      "cell_type": "code",
      "metadata": {
        "colab": {
          "base_uri": "https://localhost:8080/"
        },
        "id": "OKN7Us-CBLHU",
        "outputId": "85247f73-f863-4d1a-97b2-2f2db53df1e5"
      },
      "source": [
        "# Create an object of the class Network and transfer it to the GPU\n",
        "model = Network().to(device)\n",
        "print(\" The model layers are: \")\n",
        "print(model)\n",
        "\n",
        "print(\"\\nShape of parameters in each layer is: \")\n",
        "for name, param in model.named_parameters():\n",
        "    print(name, '\\t\\t', param.shape)\n",
        "\n",
        "# Selecting the loss function and optimizer  for the model\n",
        "CE_loss = nn.CrossEntropyLoss()\n",
        "MSE_loss = nn.MSELoss()\n",
        "optimizer = optim.SGD(model.parameters(), lr=0.001, momentum=0.9)"
      ],
      "execution_count": 5,
      "outputs": [
        {
          "output_type": "stream",
          "name": "stdout",
          "text": [
            " The model layers are: \n",
            "Network(\n",
            "  (input1): Conv2d(1, 16, kernel_size=(3, 3), stride=(1, 1))\n",
            "  (conv1): Conv2d(16, 32, kernel_size=(3, 3), stride=(1, 1))\n",
            "  (conv2): Conv2d(32, 64, kernel_size=(3, 3), stride=(1, 1))\n",
            "  (pool): MaxPool2d(kernel_size=2, stride=2, padding=0, dilation=1, ceil_mode=False)\n",
            "  (oneconv1): Conv2d(64, 16, kernel_size=(1, 1), stride=(1, 1))\n",
            "  (conv3): Conv2d(16, 32, kernel_size=(3, 3), stride=(1, 1))\n",
            "  (conv4): Conv2d(32, 64, kernel_size=(3, 3), stride=(1, 1))\n",
            "  (conv5): Conv2d(64, 64, kernel_size=(3, 3), stride=(1, 1))\n",
            "  (conv6): Conv2d(64, 10, kernel_size=(5, 5), stride=(1, 1))\n",
            "  (input2): Linear(in_features=2, out_features=5, bias=True)\n",
            "  (layer1): Linear(in_features=5, out_features=5, bias=True)\n",
            "  (out2): Linear(in_features=5, out_features=1, bias=True)\n",
            ")\n",
            "\n",
            "Shape of parameters in each layer is: \n",
            "input1.weight \t\t torch.Size([16, 1, 3, 3])\n",
            "input1.bias \t\t torch.Size([16])\n",
            "conv1.weight \t\t torch.Size([32, 16, 3, 3])\n",
            "conv1.bias \t\t torch.Size([32])\n",
            "conv2.weight \t\t torch.Size([64, 32, 3, 3])\n",
            "conv2.bias \t\t torch.Size([64])\n",
            "oneconv1.weight \t\t torch.Size([16, 64, 1, 1])\n",
            "oneconv1.bias \t\t torch.Size([16])\n",
            "conv3.weight \t\t torch.Size([32, 16, 3, 3])\n",
            "conv3.bias \t\t torch.Size([32])\n",
            "conv4.weight \t\t torch.Size([64, 32, 3, 3])\n",
            "conv4.bias \t\t torch.Size([64])\n",
            "conv5.weight \t\t torch.Size([64, 64, 3, 3])\n",
            "conv5.bias \t\t torch.Size([64])\n",
            "conv6.weight \t\t torch.Size([10, 64, 5, 5])\n",
            "conv6.bias \t\t torch.Size([10])\n",
            "input2.weight \t\t torch.Size([5, 2])\n",
            "input2.bias \t\t torch.Size([5])\n",
            "layer1.weight \t\t torch.Size([5, 5])\n",
            "layer1.bias \t\t torch.Size([5])\n",
            "out2.weight \t\t torch.Size([1, 5])\n",
            "out2.bias \t\t torch.Size([1])\n"
          ]
        }
      ]
    },
    {
      "cell_type": "markdown",
      "metadata": {
        "id": "lcECVJnC9eUR"
      },
      "source": [
        "# Training the Model"
      ]
    },
    {
      "cell_type": "code",
      "metadata": {
        "colab": {
          "base_uri": "https://localhost:8080/"
        },
        "id": "JqdOACfnhqPE",
        "outputId": "8a021ba7-8c21-4ba1-89f2-1962a98fd81b"
      },
      "source": [
        "for epoch in range(10):  # Loop over the dataset multiple times\n",
        "\n",
        "    total_loss = 0.0\n",
        "    total_correct_1, total_correct_2 = 0, 0\n",
        "    # Loop over the entire length of train data\n",
        "    for i in range(len(train_data)):\n",
        "        # Get the inputs and outputs\n",
        "        # Input data x is a list of [images, random numbers], output data y is a list of [classes, sum of numbers]\n",
        "        x, y = next(iter(train_data))\n",
        "\n",
        "        # Zero the parameter gradients\n",
        "        optimizer.zero_grad()\n",
        "\n",
        "        # Forward + Backward + Optimize\n",
        "        output1, output2 = model(x[0], x[1])\n",
        "        # Use the CE loss for classification and MSE loss for addition \n",
        "        loss = CE_loss(output1, y[0]) + MSE_loss(output2, y[1])\n",
        "        loss.backward()\n",
        "        optimizer.step()\n",
        "\n",
        "        # Calculate statistics\n",
        "        total_loss += loss.item()\n",
        "        total_correct_1 += output1.argmax(dim=1).eq(y[0]).sum().item()\n",
        "        total_correct_2 += (torch.round(output2) == torch.round(y[1])).sum().item()\n",
        "        \n",
        "    # Print statistics        \n",
        "    print(f\"Epoch: {epoch+1}, loss: {total_loss}, Classification Acc: {100 * (total_correct_1/(len(train_data.dataset)))}, Addition Acc: {100 * (total_correct_2/(len(train_data.dataset)))}\")\n",
        "    \n",
        "print('Finished Training')"
      ],
      "execution_count": 6,
      "outputs": [
        {
          "output_type": "stream",
          "name": "stderr",
          "text": [
            "/usr/local/lib/python3.7/dist-packages/torch/nn/functional.py:718: UserWarning: Named tensors and all their associated APIs are an experimental feature and subject to change. Please do not use them for anything important until they are released as stable. (Triggered internally at  /pytorch/c10/core/TensorImpl.h:1156.)\n",
            "  return torch.max_pool2d(input, kernel_size, stride, padding, dilation, ceil_mode)\n"
          ]
        },
        {
          "output_type": "stream",
          "name": "stdout",
          "text": [
            "Epoch: 1, loss: 10206.90155094117, Classification Acc: 64.28833333333334, Addition Acc: 46.43333333333333\n",
            "Epoch: 2, loss: 1289.0655755088665, Classification Acc: 96.89833333333333, Addition Acc: 92.16833333333334\n",
            "Epoch: 3, loss: 884.4560423151124, Classification Acc: 97.87166666666667, Addition Acc: 95.58\n",
            "Epoch: 4, loss: 662.7775352168828, Classification Acc: 98.36, Addition Acc: 97.17333333333333\n",
            "Epoch: 5, loss: 560.1759513061261, Classification Acc: 98.63666666666666, Addition Acc: 97.86666666666667\n",
            "Epoch: 6, loss: 506.6061865175725, Classification Acc: 98.85333333333334, Addition Acc: 98.34\n",
            "Epoch: 7, loss: 413.1267909622984, Classification Acc: 99.04666666666667, Addition Acc: 98.48833333333333\n",
            "Epoch: 8, loss: 360.2427352331579, Classification Acc: 99.13499999999999, Addition Acc: 98.89666666666666\n",
            "Epoch: 9, loss: 329.24250107776606, Classification Acc: 99.24333333333333, Addition Acc: 98.87166666666667\n",
            "Epoch: 10, loss: 289.5927953984501, Classification Acc: 99.28833333333333, Addition Acc: 99.215\n",
            "Finished Training\n"
          ]
        }
      ]
    },
    {
      "cell_type": "markdown",
      "metadata": {
        "id": "iJCQAt1v9gQc"
      },
      "source": [
        "# Evaluating the Model"
      ]
    },
    {
      "cell_type": "code",
      "metadata": {
        "id": "rtTzDx3MtO9B",
        "colab": {
          "base_uri": "https://localhost:8080/"
        },
        "outputId": "c9987a7b-d91a-4c09-eaa4-5de93488e35c"
      },
      "source": [
        "correct_1, correct_2 = 0, 0\n",
        "total_1, total_2 = 0, 0\n",
        "\n",
        "# Since we're not training, we don't need to calculate the gradients for our outputs\n",
        "with torch.no_grad():\n",
        "    # Loop over the entire length of test data\n",
        "    for i in range(len(test_data)):\n",
        "        # Get the inputs and outputs\n",
        "        # Input data x is a list of [images, random numbers], output data y is a list of [classes, sum of numbers]\n",
        "        x, y = next(iter(test_data))\n",
        "\n",
        "        # Calculate outputs by running data through the network \n",
        "        output1, output2 = model(x[0], x[1])\n",
        "\n",
        "        # The class with the highest energy is what we choose as prediction\n",
        "        _, predicted = torch.max(output1.data, 1)\n",
        "        total_1 += y[0].size(0)\n",
        "        # Calculate number of correction predictions for classifier\n",
        "        correct_1 += (predicted == y[0]).sum().item()\n",
        "\n",
        "        total_2 += y[1].to(device).size(0)\n",
        "        # Calculate number of correction predictions for addition\n",
        "        correct_2 += (torch.round(output2) == torch.round(y[1])).sum().item()\n",
        "\n",
        "print('Accuracy of the network on the 10,000 test images: ', (100 * correct_1 / total_1))\n",
        "print('Accuracy of the network on the 10,000 test images: ', (100 * correct_2 / total_2))"
      ],
      "execution_count": 7,
      "outputs": [
        {
          "output_type": "stream",
          "name": "stdout",
          "text": [
            "Accuracy of the network on the 10,000 test images:  98.5223642172524\n",
            "Accuracy of the network on the 10,000 test images:  98.5223642172524\n"
          ]
        }
      ]
    },
    {
      "cell_type": "markdown",
      "metadata": {
        "id": "ureQ_TG5rlAm"
      },
      "source": [
        "# Sample Prediction on a batch"
      ]
    },
    {
      "cell_type": "code",
      "metadata": {
        "colab": {
          "base_uri": "https://localhost:8080/"
        },
        "id": "X4pp-yZjrnwZ",
        "outputId": "be7695a4-c590-4989-92bd-614f048f18f3"
      },
      "source": [
        "print(\"Print Prediction for a sample batch\\n\")\n",
        "x, y = next(iter(test_data))\n",
        "\n",
        "# Calculate outputs by running data through the network \n",
        "output1, output2 = model(x[0], x[1])\n",
        "\n",
        "# The class with the highest energy is what we choose as prediction\n",
        "_, predicted = torch.max(output1.data, 1)\n",
        "\n",
        "print(\"Predicted vs. Actual for classifer\\n\")\n",
        "print(torch.stack((predicted, y[0]), dim=1)[:10])"
      ],
      "execution_count": 8,
      "outputs": [
        {
          "output_type": "stream",
          "name": "stdout",
          "text": [
            "Print Prediction for a sample batch\n",
            "\n",
            "Predicted vs. Actual for classifer\n",
            "\n",
            "tensor([[0, 0],\n",
            "        [4, 4],\n",
            "        [4, 4],\n",
            "        [2, 2],\n",
            "        [7, 7],\n",
            "        [7, 7],\n",
            "        [1, 1],\n",
            "        [2, 2],\n",
            "        [8, 8],\n",
            "        [7, 7]], device='cuda:0')\n"
          ]
        }
      ]
    },
    {
      "cell_type": "code",
      "metadata": {
        "colab": {
          "base_uri": "https://localhost:8080/"
        },
        "id": "699AOLTOJ7VJ",
        "outputId": "918083e9-4e4e-43ff-a88e-d7338d66ef2c"
      },
      "source": [
        "print(\"Predicted vs. Predicted Rounded off vs. Actual for addition\\n\")\n",
        "\n",
        "print(torch.stack((output2, torch.round(output2), y[1]), dim=1)[:5])"
      ],
      "execution_count": 9,
      "outputs": [
        {
          "output_type": "stream",
          "name": "stdout",
          "text": [
            "Predicted vs. Predicted Rounded off vs. Actual for addition\n",
            "\n",
            "tensor([[[1.1053e-02],\n",
            "         [0.0000e+00],\n",
            "         [0.0000e+00]],\n",
            "\n",
            "        [[5.0171e+00],\n",
            "         [5.0000e+00],\n",
            "         [5.0000e+00]],\n",
            "\n",
            "        [[6.0161e+00],\n",
            "         [6.0000e+00],\n",
            "         [6.0000e+00]],\n",
            "\n",
            "        [[5.0116e+00],\n",
            "         [5.0000e+00],\n",
            "         [5.0000e+00]],\n",
            "\n",
            "        [[1.6015e+01],\n",
            "         [1.6000e+01],\n",
            "         [1.6000e+01]]], device='cuda:0', grad_fn=<SliceBackward>)\n"
          ]
        }
      ]
    }
  ]
}